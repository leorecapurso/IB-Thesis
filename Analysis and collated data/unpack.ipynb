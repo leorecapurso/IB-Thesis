{
 "cells": [
  {
   "cell_type": "markdown",
   "metadata": {},
   "source": [
    "### This script unpacks the data that was stored as a json string in the experiment, and saves two .csv files. "
   ]
  },
  {
   "cell_type": "code",
   "execution_count": 6,
   "metadata": {
    "scrolled": true
   },
   "outputs": [
    {
     "name": "stdout",
     "output_type": "stream",
     "text": [
      "test/subjectId_NULL_2021-01-14 09-38-13.txt\n",
      "test/subjectId_NULL_2021-01-14 09-42-32.txt\n",
      "test/subjectId_NULL_2021-01-14 09-55-49.txt\n",
      "test/subjectId_NULL_2021-01-14 09-28-47.txt\n"
     ]
    }
   ],
   "source": [
    "import json # for unpacking js\n",
    "import glob # for pathnames\n",
    "import pandas as pd # for data frames\n",
    "\n",
    "\n",
    "# Get dicts from all the .txt files in /data/ (ignoring other extensions like .DS_Store)\n",
    "file_names_list = glob.glob('test/*.txt')\n",
    "data_list = []\n",
    "for file in file_names_list:\n",
    "    with open(file, 'r') as f:\n",
    "        print(file)\n",
    "        data_list.append(json.load(f))\n",
    "len(data_list)\n",
    "\n",
    "\n",
    "# Data frame of trial data \n",
    "data = dict()\n",
    "for subject in range(len(data_list)): \n",
    "    data[subject] = pd.DataFrame(data_list[subject][\"trials\"])\n",
    "data = pd.concat(data, sort=False)\n",
    "\n",
    "\n",
    "# Data frame of experiment info data \n",
    "info = pd.DataFrame(data_list[:])\n",
    "info = info.drop('trials', axis=1) \n",
    "\n",
    "\n",
    "# Save as csv files \n",
    "data.to_csv('data.csv', index = True, header = True)\n",
    "info.to_csv('info.csv', index = True, header = True)"
   ]
  },
  {
   "cell_type": "code",
   "execution_count": null,
   "metadata": {},
   "outputs": [],
   "source": []
  }
 ],
 "metadata": {
  "kernelspec": {
   "display_name": "Python 3",
   "language": "python",
   "name": "python3"
  },
  "language_info": {
   "codemirror_mode": {
    "name": "ipython",
    "version": 3
   },
   "file_extension": ".py",
   "mimetype": "text/x-python",
   "name": "python",
   "nbconvert_exporter": "python",
   "pygments_lexer": "ipython3",
   "version": "3.7.4"
  }
 },
 "nbformat": 4,
 "nbformat_minor": 2
}
